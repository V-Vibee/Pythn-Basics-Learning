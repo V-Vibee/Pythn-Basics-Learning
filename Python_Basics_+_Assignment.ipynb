{
  "nbformat": 4,
  "nbformat_minor": 0,
  "metadata": {
    "colab": {
      "provenance": [],
      "authorship_tag": "ABX9TyPPB1FahNXFr1lNY5TOh3Ef",
      "include_colab_link": true
    },
    "kernelspec": {
      "name": "python3",
      "display_name": "Python 3"
    },
    "language_info": {
      "name": "python"
    }
  },
  "cells": [
    {
      "cell_type": "markdown",
      "metadata": {
        "id": "view-in-github",
        "colab_type": "text"
      },
      "source": [
        "<a href=\"https://colab.research.google.com/github/V-Vibee/Pythn-Basics-Learning/blob/main/Python_Basics_%2B_Assignment.ipynb\" target=\"_parent\"><img src=\"https://colab.research.google.com/assets/colab-badge.svg\" alt=\"Open In Colab\"/></a>"
      ]
    },
    {
      "cell_type": "markdown",
      "source": [
        "**Python Datatypes**"
      ],
      "metadata": {
        "id": "m3o7CjV4u4Q7"
      }
    },
    {
      "cell_type": "code",
      "execution_count": 1,
      "metadata": {
        "colab": {
          "base_uri": "https://localhost:8080/"
        },
        "id": "VLyiHnBVuvKy",
        "outputId": "2e6c9697-42b9-487f-d927-e7c944bde960"
      },
      "outputs": [
        {
          "output_type": "stream",
          "name": "stdout",
          "text": [
            "2\n"
          ]
        },
        {
          "output_type": "execute_result",
          "data": {
            "text/plain": [
              "int"
            ]
          },
          "metadata": {},
          "execution_count": 1
        }
      ],
      "source": [
        "# Integer\n",
        "print(2)\n",
        "type(2)"
      ]
    },
    {
      "cell_type": "code",
      "source": [
        "# Float\n",
        "print(2.0)\n",
        "type(2.0)"
      ],
      "metadata": {
        "colab": {
          "base_uri": "https://localhost:8080/"
        },
        "id": "AbkRhJnMu3xA",
        "outputId": "42fcd47a-ef9c-489c-95eb-b96f03b70136"
      },
      "execution_count": 2,
      "outputs": [
        {
          "output_type": "stream",
          "name": "stdout",
          "text": [
            "2.0\n"
          ]
        },
        {
          "output_type": "execute_result",
          "data": {
            "text/plain": [
              "float"
            ]
          },
          "metadata": {},
          "execution_count": 2
        }
      ]
    },
    {
      "cell_type": "code",
      "source": [
        "# Complex Number\n",
        "print(4+5j)\n",
        "type(4+5j)"
      ],
      "metadata": {
        "colab": {
          "base_uri": "https://localhost:8080/"
        },
        "id": "5csuzFWVu7D2",
        "outputId": "2c284cf6-3cd1-42e5-dd54-804d470d3539"
      },
      "execution_count": 4,
      "outputs": [
        {
          "output_type": "stream",
          "name": "stdout",
          "text": [
            "(4+5j)\n"
          ]
        },
        {
          "output_type": "execute_result",
          "data": {
            "text/plain": [
              "complex"
            ]
          },
          "metadata": {},
          "execution_count": 4
        }
      ]
    },
    {
      "cell_type": "code",
      "source": [
        "# String\n",
        "print(\"Hello world\")\n",
        "type('Hello world')"
      ],
      "metadata": {
        "colab": {
          "base_uri": "https://localhost:8080/"
        },
        "id": "HELZC8y3vZx6",
        "outputId": "08546f0a-4c4c-4da3-c956-097f1ab4de68"
      },
      "execution_count": 6,
      "outputs": [
        {
          "output_type": "stream",
          "name": "stdout",
          "text": [
            "Hello world\n"
          ]
        },
        {
          "output_type": "execute_result",
          "data": {
            "text/plain": [
              "str"
            ]
          },
          "metadata": {},
          "execution_count": 6
        }
      ]
    },
    {
      "cell_type": "markdown",
      "source": [
        "**Variables**"
      ],
      "metadata": {
        "id": "7HcwztGP26na"
      }
    },
    {
      "cell_type": "code",
      "source": [
        "my_list= [2, 2.0, 4+5j,'Hello world']\n",
        "my_list"
      ],
      "metadata": {
        "colab": {
          "base_uri": "https://localhost:8080/"
        },
        "id": "rAJghEh_2-e8",
        "outputId": "79a1a18e-c560-4c39-c1b5-495efb79ed76"
      },
      "execution_count": 10,
      "outputs": [
        {
          "output_type": "execute_result",
          "data": {
            "text/plain": [
              "[2, 2.0, (4+5j), 'Hello world']"
            ]
          },
          "metadata": {},
          "execution_count": 10
        }
      ]
    },
    {
      "cell_type": "code",
      "source": [
        "type(my_list)"
      ],
      "metadata": {
        "colab": {
          "base_uri": "https://localhost:8080/"
        },
        "id": "OVZWiPst3JBm",
        "outputId": "0d7da80d-588a-4a10-e5fa-002ac06b6033"
      },
      "execution_count": 11,
      "outputs": [
        {
          "output_type": "execute_result",
          "data": {
            "text/plain": [
              "list"
            ]
          },
          "metadata": {},
          "execution_count": 11
        }
      ]
    },
    {
      "cell_type": "code",
      "source": [
        "my_tuple= (2, 2.0, 4+5j,'Hello world')\n",
        "type(my_tuple)"
      ],
      "metadata": {
        "colab": {
          "base_uri": "https://localhost:8080/"
        },
        "id": "iEf9pfGm3SzW",
        "outputId": "7043b604-0137-4fa2-a4c5-385bace7e79f"
      },
      "execution_count": 12,
      "outputs": [
        {
          "output_type": "execute_result",
          "data": {
            "text/plain": [
              "tuple"
            ]
          },
          "metadata": {},
          "execution_count": 12
        }
      ]
    },
    {
      "cell_type": "code",
      "source": [
        "my_set= {2, 2.0, 4+5j,'Hello world'}\n",
        "type(my_set)"
      ],
      "metadata": {
        "colab": {
          "base_uri": "https://localhost:8080/"
        },
        "id": "zOMy8LW_3hSo",
        "outputId": "73eff20e-11ab-413d-aa89-12c6c41521a9"
      },
      "execution_count": 13,
      "outputs": [
        {
          "output_type": "execute_result",
          "data": {
            "text/plain": [
              "set"
            ]
          },
          "metadata": {},
          "execution_count": 13
        }
      ]
    },
    {
      "cell_type": "markdown",
      "source": [
        "**Functions in Python**"
      ],
      "metadata": {
        "id": "nEpLVJGk304g"
      }
    },
    {
      "cell_type": "code",
      "source": [
        "def add(a,b):\n",
        "  return a+b"
      ],
      "metadata": {
        "id": "BUSwaBc-3q6o"
      },
      "execution_count": 30,
      "outputs": []
    },
    {
      "cell_type": "code",
      "source": [
        "add(11,5)"
      ],
      "metadata": {
        "colab": {
          "base_uri": "https://localhost:8080/"
        },
        "id": "jCp_UETJ33Xa",
        "outputId": "b4bcae9b-1eb4-40c4-8f11-fc2afca59e7e"
      },
      "execution_count": 28,
      "outputs": [
        {
          "output_type": "execute_result",
          "data": {
            "text/plain": [
              "16"
            ]
          },
          "metadata": {},
          "execution_count": 28
        }
      ]
    },
    {
      "cell_type": "code",
      "source": [
        "def multiplication(a,b):\n",
        "  return a*b"
      ],
      "metadata": {
        "id": "IWQbYnGz5dKh"
      },
      "execution_count": 29,
      "outputs": []
    },
    {
      "cell_type": "code",
      "source": [
        "multiplication(11,5)"
      ],
      "metadata": {
        "colab": {
          "base_uri": "https://localhost:8080/"
        },
        "id": "TWDqdGpo8O2v",
        "outputId": "bbbb823d-06e7-4f0f-f83b-5a06202ba84d"
      },
      "execution_count": 27,
      "outputs": [
        {
          "output_type": "execute_result",
          "data": {
            "text/plain": [
              "55"
            ]
          },
          "metadata": {},
          "execution_count": 27
        }
      ]
    },
    {
      "cell_type": "code",
      "source": [
        "def power(x):\n",
        "  return x, x*2, x**3"
      ],
      "metadata": {
        "id": "dutqFJ8h8Snf"
      },
      "execution_count": 36,
      "outputs": []
    },
    {
      "cell_type": "code",
      "source": [
        "power(2)"
      ],
      "metadata": {
        "colab": {
          "base_uri": "https://localhost:8080/"
        },
        "id": "sR2LnANc9cz8",
        "outputId": "1428dcd0-9e36-4370-bf0d-03bc86291f9f"
      },
      "execution_count": 37,
      "outputs": [
        {
          "output_type": "execute_result",
          "data": {
            "text/plain": [
              "(2, 4, 8)"
            ]
          },
          "metadata": {},
          "execution_count": 37
        }
      ]
    },
    {
      "cell_type": "code",
      "source": [
        "name= input()"
      ],
      "metadata": {
        "colab": {
          "base_uri": "https://localhost:8080/"
        },
        "id": "_FPROmoF9ePC",
        "outputId": "b93c0c07-337e-4826-c8de-e85689bbd00d"
      },
      "execution_count": 38,
      "outputs": [
        {
          "name": "stdout",
          "output_type": "stream",
          "text": [
            "vipin\n"
          ]
        }
      ]
    },
    {
      "cell_type": "code",
      "source": [
        "x= input(\"ur name: \")"
      ],
      "metadata": {
        "colab": {
          "base_uri": "https://localhost:8080/"
        },
        "id": "bs2rDsUC-6cq",
        "outputId": "f9b5fa54-f98a-4c9a-90d9-65be1c8cb2b6"
      },
      "execution_count": 39,
      "outputs": [
        {
          "name": "stdout",
          "output_type": "stream",
          "text": [
            "ur name: vipin\n"
          ]
        }
      ]
    },
    {
      "cell_type": "code",
      "source": [
        "x= int(input(\"Date: \"))\n",
        "x"
      ],
      "metadata": {
        "colab": {
          "base_uri": "https://localhost:8080/"
        },
        "id": "N1KyUxe9ARJm",
        "outputId": "bbe6a074-32b1-434d-b5b6-23040b31c395"
      },
      "execution_count": 41,
      "outputs": [
        {
          "name": "stdout",
          "output_type": "stream",
          "text": [
            "Date: 8\n"
          ]
        },
        {
          "output_type": "execute_result",
          "data": {
            "text/plain": [
              "8"
            ]
          },
          "metadata": {},
          "execution_count": 41
        }
      ]
    },
    {
      "cell_type": "markdown",
      "source": [
        "**Function to get square root**"
      ],
      "metadata": {
        "id": "WP6vsF1vBHoW"
      }
    },
    {
      "cell_type": "code",
      "source": [
        "def sqrt(a):\n",
        "  return a, a**0.5\n"
      ],
      "metadata": {
        "id": "BwdsNzbUBKaw"
      },
      "execution_count": 47,
      "outputs": []
    },
    {
      "cell_type": "code",
      "source": [
        "sqrt(5)"
      ],
      "metadata": {
        "colab": {
          "base_uri": "https://localhost:8080/"
        },
        "id": "0DvOFy7xB1EA",
        "outputId": "8b984438-865d-4441-e56a-65a27260d7e9"
      },
      "execution_count": 48,
      "outputs": [
        {
          "output_type": "execute_result",
          "data": {
            "text/plain": [
              "(5, 2.23606797749979)"
            ]
          },
          "metadata": {},
          "execution_count": 48
        }
      ]
    },
    {
      "cell_type": "code",
      "source": [
        "def average(num1, num2):\n",
        "  return (num1+num2)/2"
      ],
      "metadata": {
        "id": "QwbfZsvHB3og"
      },
      "execution_count": 49,
      "outputs": []
    },
    {
      "cell_type": "code",
      "source": [
        "average(5,6)"
      ],
      "metadata": {
        "colab": {
          "base_uri": "https://localhost:8080/"
        },
        "id": "gs6vIB3wUNnP",
        "outputId": "41e4b319-8d2f-4040-9e95-da5639ca73d1"
      },
      "execution_count": 50,
      "outputs": [
        {
          "output_type": "execute_result",
          "data": {
            "text/plain": [
              "5.5"
            ]
          },
          "metadata": {},
          "execution_count": 50
        }
      ]
    },
    {
      "cell_type": "code",
      "source": [
        "import this"
      ],
      "metadata": {
        "colab": {
          "base_uri": "https://localhost:8080/"
        },
        "id": "Yv_eftOsUPSf",
        "outputId": "57808cd2-069a-4a3c-d134-a439ef618a79"
      },
      "execution_count": 51,
      "outputs": [
        {
          "output_type": "stream",
          "name": "stdout",
          "text": [
            "The Zen of Python, by Tim Peters\n",
            "\n",
            "Beautiful is better than ugly.\n",
            "Explicit is better than implicit.\n",
            "Simple is better than complex.\n",
            "Complex is better than complicated.\n",
            "Flat is better than nested.\n",
            "Sparse is better than dense.\n",
            "Readability counts.\n",
            "Special cases aren't special enough to break the rules.\n",
            "Although practicality beats purity.\n",
            "Errors should never pass silently.\n",
            "Unless explicitly silenced.\n",
            "In the face of ambiguity, refuse the temptation to guess.\n",
            "There should be one-- and preferably only one --obvious way to do it.\n",
            "Although that way may not be obvious at first unless you're Dutch.\n",
            "Now is better than never.\n",
            "Although never is often better than *right* now.\n",
            "If the implementation is hard to explain, it's a bad idea.\n",
            "If the implementation is easy to explain, it may be a good idea.\n",
            "Namespaces are one honking great idea -- let's do more of those!\n"
          ]
        }
      ]
    },
    {
      "cell_type": "markdown",
      "source": [
        "**Conditional Statements**"
      ],
      "metadata": {
        "id": "Lh1BvLUnVUOo"
      }
    },
    {
      "cell_type": "code",
      "source": [
        "a= 5\n",
        "b= 6\n",
        "if a> b:\n",
        "  print('a is greater')\n",
        "else:\n",
        "  print('a is lesser')"
      ],
      "metadata": {
        "colab": {
          "base_uri": "https://localhost:8080/"
        },
        "id": "99e0EixXVXvO",
        "outputId": "fc8cf0cd-5887-4ddd-de66-fd2d024b37f0"
      },
      "execution_count": 56,
      "outputs": [
        {
          "output_type": "stream",
          "name": "stdout",
          "text": [
            "a is lesser\n"
          ]
        }
      ]
    },
    {
      "cell_type": "code",
      "source": [
        "a = 5\n",
        "b = 3\n",
        "c= 8\n",
        "if b > a:\n",
        "  print(\"b is greater than a\")\n",
        "elif a == b:\n",
        "  print(\"a and b are equal\")\n",
        "else:\n",
        "  print(\"c is the greatest\")"
      ],
      "metadata": {
        "colab": {
          "base_uri": "https://localhost:8080/"
        },
        "id": "wVJbUq6IWYNI",
        "outputId": "a1e7b715-f4f5-415a-a3f0-2df05841c81a"
      },
      "execution_count": 61,
      "outputs": [
        {
          "output_type": "stream",
          "name": "stdout",
          "text": [
            "c is the greatest\n"
          ]
        }
      ]
    },
    {
      "cell_type": "markdown",
      "source": [
        "**Conditional Statement with Function**"
      ],
      "metadata": {
        "id": "7lMdJ2cgXtOq"
      }
    },
    {
      "cell_type": "code",
      "source": [
        "def compare(a):\n",
        "  if a < 2:\n",
        "    print('a is less than')\n",
        "  elif a== 2:\n",
        "    print('a is equal')\n",
        "  else:\n",
        "    print('a is greater than')"
      ],
      "metadata": {
        "id": "uZaAWOeDXw6w"
      },
      "execution_count": 72,
      "outputs": []
    },
    {
      "cell_type": "code",
      "source": [
        "compare(2)"
      ],
      "metadata": {
        "colab": {
          "base_uri": "https://localhost:8080/"
        },
        "id": "rv4aHWzIaM8Z",
        "outputId": "2d711f8d-952a-4ce4-b4b0-77e6639fb72f"
      },
      "execution_count": 76,
      "outputs": [
        {
          "output_type": "stream",
          "name": "stdout",
          "text": [
            "a is equal\n"
          ]
        }
      ]
    },
    {
      "cell_type": "code",
      "source": [
        "def comp(x):\n",
        "  if x < 0:\n",
        "    print('Negative')\n",
        "  elif x == 0:\n",
        "    print('Zero')\n",
        "  elif x >0:\n",
        "    print('Positive')\n",
        "  elif x <2:\n",
        "    print('Greater Than')\n",
        "  else:\n",
        "    print('Largest number')\n"
      ],
      "metadata": {
        "id": "0EDsFqUNbALR"
      },
      "execution_count": 79,
      "outputs": []
    },
    {
      "cell_type": "code",
      "source": [
        "comp(9)"
      ],
      "metadata": {
        "colab": {
          "base_uri": "https://localhost:8080/"
        },
        "id": "R8Tbtvt_dPlr",
        "outputId": "01172c4e-efb2-4b40-8ed7-4364b8faad8e"
      },
      "execution_count": 81,
      "outputs": [
        {
          "output_type": "stream",
          "name": "stdout",
          "text": [
            "Positive\n"
          ]
        }
      ]
    },
    {
      "cell_type": "markdown",
      "source": [
        "**Assignment**"
      ],
      "metadata": {
        "id": "4vtVUE3Ndpx0"
      }
    },
    {
      "cell_type": "markdown",
      "source": [
        "**Create function to check even and odd**"
      ],
      "metadata": {
        "id": "iMWy6SBod1ya"
      }
    },
    {
      "cell_type": "code",
      "source": [
        "num= int(input())\n",
        "if num % 2 == 0:\n",
        "  print(\"Number is even\")\n",
        "else:\n",
        "  print('Number is odd')"
      ],
      "metadata": {
        "colab": {
          "base_uri": "https://localhost:8080/"
        },
        "id": "sP-BEj8ieFOD",
        "outputId": "2675a7c5-521c-4945-9db1-e8cda81f9098"
      },
      "execution_count": 88,
      "outputs": [
        {
          "output_type": "stream",
          "name": "stdout",
          "text": [
            "5\n",
            "Number is odd\n"
          ]
        }
      ]
    },
    {
      "cell_type": "markdown",
      "source": [
        "**Create Function to calculate BMI,while taking input from user**"
      ],
      "metadata": {
        "id": "R23tBXHRd8uz"
      }
    },
    {
      "cell_type": "code",
      "source": [
        "Height = float(input(\"Enter the height in cm: \"))\n",
        "Weight = float(input(\"Enter the weight in kg: \"))\n",
        "BMI = Weight / ((Height / 100) ** 2)\n",
        "\n",
        "if BMI < 20:\n",
        "    print(\"Oops! You are underweight\")\n",
        "elif BMI < 25:\n",
        "    print(\"Awesome! You are healthy\")\n",
        "elif BMI < 30:\n",
        "    print(\"Eee! You are overweight\")\n",
        "else:\n",
        "    print(\"Seesh! You are obese\")\n",
        "\n"
      ],
      "metadata": {
        "colab": {
          "base_uri": "https://localhost:8080/"
        },
        "id": "DzhZkMJwdzqx",
        "outputId": "2a39ab34-9c57-4bbe-9350-595d4a9864ad"
      },
      "execution_count": 97,
      "outputs": [
        {
          "output_type": "stream",
          "name": "stdout",
          "text": [
            "Enter the height in cm: 156\n",
            "Enter the weight in kg: 56\n",
            "Awesome! You are healthy\n"
          ]
        }
      ]
    },
    {
      "cell_type": "code",
      "source": [
        "717"
      ],
      "metadata": {
        "id": "r33nwRrir6BI"
      },
      "execution_count": null,
      "outputs": []
    }
  ]
}